{
  "nbformat": 4,
  "nbformat_minor": 0,
  "metadata": {
    "colab": {
      "name": "Diabetes Prediction : Recruitment.ipynb",
      "provenance": []
    },
    "kernelspec": {
      "name": "python3",
      "display_name": "Python 3"
    },
    "language_info": {
      "name": "python"
    }
  },
  "cells": [
    {
      "cell_type": "markdown",
      "metadata": {
        "id": "oJqdgMbAO2nb"
      },
      "source": [
        "Use only python and basic libraries such as numpy,pandas,matplotlib to implement the following."
      ]
    },
    {
      "cell_type": "code",
      "metadata": {
        "id": "hHOhV9qz1KFh",
        "colab": {
          "base_uri": "https://localhost:8080/",
          "height": 195
        },
        "outputId": "9fab83a7-db10-4b7d-a0c9-0fb14c807c72"
      },
      "source": [
        "import pandas as pd\n",
        "import numpy as np\n",
        "url = 'https://raw.githubusercontent.com/mabhay3420/Deep-Into-CNN/master/Datasets/diabetes2.csv'\n",
        "df1 = pd.read_csv(url)\n",
        "df1.head()"
      ],
      "execution_count": 88,
      "outputs": [
        {
          "output_type": "execute_result",
          "data": {
            "text/html": [
              "<div>\n",
              "<style scoped>\n",
              "    .dataframe tbody tr th:only-of-type {\n",
              "        vertical-align: middle;\n",
              "    }\n",
              "\n",
              "    .dataframe tbody tr th {\n",
              "        vertical-align: top;\n",
              "    }\n",
              "\n",
              "    .dataframe thead th {\n",
              "        text-align: right;\n",
              "    }\n",
              "</style>\n",
              "<table border=\"1\" class=\"dataframe\">\n",
              "  <thead>\n",
              "    <tr style=\"text-align: right;\">\n",
              "      <th></th>\n",
              "      <th>Pregnancies</th>\n",
              "      <th>Glucose</th>\n",
              "      <th>BloodPressure</th>\n",
              "      <th>SkinThickness</th>\n",
              "      <th>Insulin</th>\n",
              "      <th>BMI</th>\n",
              "      <th>DiabetesPedigreeFunction</th>\n",
              "      <th>Age</th>\n",
              "      <th>Outcome</th>\n",
              "    </tr>\n",
              "  </thead>\n",
              "  <tbody>\n",
              "    <tr>\n",
              "      <th>0</th>\n",
              "      <td>6</td>\n",
              "      <td>148</td>\n",
              "      <td>72</td>\n",
              "      <td>35</td>\n",
              "      <td>0</td>\n",
              "      <td>33.6</td>\n",
              "      <td>0.627</td>\n",
              "      <td>50</td>\n",
              "      <td>1</td>\n",
              "    </tr>\n",
              "    <tr>\n",
              "      <th>1</th>\n",
              "      <td>1</td>\n",
              "      <td>85</td>\n",
              "      <td>66</td>\n",
              "      <td>29</td>\n",
              "      <td>0</td>\n",
              "      <td>26.6</td>\n",
              "      <td>0.351</td>\n",
              "      <td>31</td>\n",
              "      <td>0</td>\n",
              "    </tr>\n",
              "    <tr>\n",
              "      <th>2</th>\n",
              "      <td>8</td>\n",
              "      <td>183</td>\n",
              "      <td>64</td>\n",
              "      <td>0</td>\n",
              "      <td>0</td>\n",
              "      <td>23.3</td>\n",
              "      <td>0.672</td>\n",
              "      <td>32</td>\n",
              "      <td>1</td>\n",
              "    </tr>\n",
              "    <tr>\n",
              "      <th>3</th>\n",
              "      <td>1</td>\n",
              "      <td>89</td>\n",
              "      <td>66</td>\n",
              "      <td>23</td>\n",
              "      <td>94</td>\n",
              "      <td>28.1</td>\n",
              "      <td>0.167</td>\n",
              "      <td>21</td>\n",
              "      <td>0</td>\n",
              "    </tr>\n",
              "    <tr>\n",
              "      <th>4</th>\n",
              "      <td>0</td>\n",
              "      <td>137</td>\n",
              "      <td>40</td>\n",
              "      <td>35</td>\n",
              "      <td>168</td>\n",
              "      <td>43.1</td>\n",
              "      <td>2.288</td>\n",
              "      <td>33</td>\n",
              "      <td>1</td>\n",
              "    </tr>\n",
              "  </tbody>\n",
              "</table>\n",
              "</div>"
            ],
            "text/plain": [
              "   Pregnancies  Glucose  BloodPressure  ...  DiabetesPedigreeFunction  Age  Outcome\n",
              "0            6      148             72  ...                     0.627   50        1\n",
              "1            1       85             66  ...                     0.351   31        0\n",
              "2            8      183             64  ...                     0.672   32        1\n",
              "3            1       89             66  ...                     0.167   21        0\n",
              "4            0      137             40  ...                     2.288   33        1\n",
              "\n",
              "[5 rows x 9 columns]"
            ]
          },
          "metadata": {
            "tags": []
          },
          "execution_count": 88
        }
      ]
    },
    {
      "cell_type": "code",
      "metadata": {
        "id": "UhOoWpbV12j1"
      },
      "source": [
        "def hypothesis(X, theta):\n",
        "    z = np.dot(theta, X.T)\n",
        "    return 1/(1+np.exp(-(z))) - 0.0000001"
      ],
      "execution_count": 89,
      "outputs": []
    },
    {
      "cell_type": "code",
      "metadata": {
        "id": "qX6xRX1e2tZU"
      },
      "source": [
        "def cost(X, y, theta):\n",
        "    y1 = hypothesis(X, theta)\n",
        "    return -(1/len(X)) * np.sum(y*np.log(y1) + (1-y)*np.log(1-y1))"
      ],
      "execution_count": 90,
      "outputs": []
    },
    {
      "cell_type": "code",
      "metadata": {
        "id": "Ag5d2Cdn2vPc"
      },
      "source": [
        "def gradient_descent(X, y, theta, alpha, epochs):\n",
        "    m =len(X)\n",
        "    J = [cost(X, y, theta)] \n",
        "    for j in range(0, epochs):\n",
        "      h = hypothesis(X, theta)\n",
        "      if j%1000 == 0:\n",
        "        print(\"Epoch\",j,\"---loss\",J[j])\n",
        "      for i in range(0, len(X.columns)):\n",
        "          theta[i] -= (alpha/m) * np.sum((h-y)*X.iloc[:, i])\n",
        "      J.append(cost(X, y, theta))\n",
        "    return J, theta"
      ],
      "execution_count": 91,
      "outputs": []
    },
    {
      "cell_type": "code",
      "metadata": {
        "id": "ZBZDH__32xKc"
      },
      "source": [
        "def predict(X, y, theta, alpha, epochs):\n",
        "    J, th = gradient_descent(X, y, theta, alpha, epochs) \n",
        "    h = hypothesis(X, theta)\n",
        "    for i in range(len(h)):\n",
        "        h[i]=1 if h[i]>=0.5 else 0\n",
        "    y = list(y)\n",
        "    acc = np.sum([y[i] == h[i] for i in range(len(y))])/len(y)\n",
        "    return J, acc"
      ],
      "execution_count": 92,
      "outputs": []
    },
    {
      "cell_type": "code",
      "metadata": {
        "id": "C2cV4bk72y4x"
      },
      "source": [
        "X = df1\n",
        "y= df1[\"Outcome\"]"
      ],
      "execution_count": 93,
      "outputs": []
    },
    {
      "cell_type": "code",
      "metadata": {
        "colab": {
          "base_uri": "https://localhost:8080/"
        },
        "id": "Xs9AOTFc21D8",
        "outputId": "98a7cba5-df04-4a14-ce3b-f0af16b5606c"
      },
      "source": [
        "theta = [0.5]*len(X.columns)\n",
        "J, acc = predict(X, y, theta, 0.0001, 50000)"
      ],
      "execution_count": 101,
      "outputs": [
        {
          "output_type": "stream",
          "text": [
            "Epoch 0 ---loss 10.493551891331172\n"
          ],
          "name": "stdout"
        },
        {
          "output_type": "stream",
          "text": [
            "/usr/local/lib/python3.7/dist-packages/ipykernel_launcher.py:3: RuntimeWarning: invalid value encountered in log\n",
            "  This is separate from the ipykernel package so we can avoid doing imports until\n"
          ],
          "name": "stderr"
        },
        {
          "output_type": "stream",
          "text": [
            "Epoch 1000 ---loss 0.9626904650732417\n",
            "Epoch 2000 ---loss 0.6253469548675642\n",
            "Epoch 3000 ---loss 0.5626712894048418\n",
            "Epoch 4000 ---loss 0.5436554885259288\n",
            "Epoch 5000 ---loss 0.5324121266670622\n",
            "Epoch 6000 ---loss 0.5236053163647395\n",
            "Epoch 7000 ---loss 0.5161618810809947\n",
            "Epoch 8000 ---loss 0.5097407433359578\n",
            "Epoch 9000 ---loss 0.5041433532722239\n",
            "Epoch 10000 ---loss 0.49921277638284406\n",
            "Epoch 11000 ---loss 0.4948174031920405\n",
            "Epoch 12000 ---loss 0.4908476700900892\n",
            "Epoch 13000 ---loss 0.48721396896274716\n",
            "Epoch 14000 ---loss 0.48384424869042153\n",
            "Epoch 15000 ---loss 0.4806814140666563\n",
            "Epoch 16000 ---loss 0.47768076866397513\n",
            "Epoch 17000 ---loss 0.474807671962832\n",
            "Epoch 18000 ---loss 0.472035496471088\n",
            "Epoch 19000 ---loss 0.4693439094401315\n",
            "Epoch 20000 ---loss 0.4667174661734026\n",
            "Epoch 21000 ---loss 0.46414448212485687\n",
            "Epoch 22000 ---loss 0.46161614312112365\n",
            "Epoch 23000 ---loss 0.4591258124142744\n",
            "Epoch 24000 ---loss 0.4566684965505843\n",
            "Epoch 25000 ---loss 0.4542404370567149\n",
            "Epoch 26000 ---loss 0.45183880039739527\n",
            "Epoch 27000 ---loss 0.4494614438381593\n",
            "Epoch 28000 ---loss 0.4471067394193131\n",
            "Epoch 29000 ---loss 0.4447734421027003\n",
            "Epoch 30000 ---loss 0.4424605913031403\n",
            "Epoch 31000 ---loss 0.4401674375331928\n",
            "Epoch 32000 ---loss 0.43789338786704646\n",
            "Epoch 33000 ---loss 0.4356379654627503\n",
            "Epoch 34000 ---loss 0.4334007795594273\n",
            "Epoch 35000 ---loss 0.4311815032630554\n",
            "Epoch 36000 ---loss 0.428979857113385\n",
            "Epoch 37000 ---loss 0.4267955969359348\n",
            "Epoch 38000 ---loss 0.42462850486653503\n",
            "Epoch 39000 ---loss 0.42247838272258403\n",
            "Epoch 40000 ---loss 0.42034504710888443\n",
            "Epoch 41000 ---loss 0.41822832580488356\n",
            "Epoch 42000 ---loss 0.41612805509811934\n",
            "Epoch 43000 ---loss 0.4140440778161436\n",
            "Epoch 44000 ---loss 0.41197624187394155\n",
            "Epoch 45000 ---loss 0.409924399201753\n",
            "Epoch 46000 ---loss 0.4078884049535847\n",
            "Epoch 47000 ---loss 0.4058681169228418\n",
            "Epoch 48000 ---loss 0.4038633951107964\n",
            "Epoch 49000 ---loss 0.40187410140783864\n"
          ],
          "name": "stdout"
        }
      ]
    },
    {
      "cell_type": "code",
      "metadata": {
        "colab": {
          "base_uri": "https://localhost:8080/"
        },
        "id": "0IoVG4BE3tII",
        "outputId": "fa973808-386e-4197-e951-3740c551a8c4"
      },
      "source": [
        "print(\"Final accuracy: \", acc)"
      ],
      "execution_count": 102,
      "outputs": [
        {
          "output_type": "stream",
          "text": [
            "Final accuracy:  0.8841145833333334\n"
          ],
          "name": "stdout"
        }
      ]
    },
    {
      "cell_type": "code",
      "metadata": {
        "colab": {
          "base_uri": "https://localhost:8080/",
          "height": 483
        },
        "id": "ERYMmywW4r0j",
        "outputId": "b1168dd7-a1db-44cb-d60a-b7a3421ec010"
      },
      "source": [
        "%matplotlib inline\n",
        "import matplotlib.pyplot as plt\n",
        "plt.figure(figsize = (12, 8))\n",
        "plt.scatter(range(0, len(J)), J)\n",
        "plt.show()"
      ],
      "execution_count": 103,
      "outputs": [
        {
          "output_type": "display_data",
          "data": {
            "image/png": "[encoded data removed]",
            "text/plain": [
              "<Figure size 864x576 with 1 Axes>"
            ]
          },
          "metadata": {
            "tags": [],
            "needs_background": "light"
          }
        }
      ]
    },
    {
      "cell_type": "code",
      "metadata": {
        "id": "G3OydyusKZ8s"
      },
      "source": [
        ""
      ],
      "execution_count": null,
      "outputs": []
    }
  ]
}